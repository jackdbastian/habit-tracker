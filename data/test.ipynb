{
 "cells": [
  {
   "cell_type": "code",
   "execution_count": 1,
   "metadata": {},
   "outputs": [],
   "source": [
    "import xmltodict\n",
    "import sqlite3\n",
    "from datetime import datetime\n",
    "import gzip\n",
    "from io import BytesIO\n",
    "import requests"
   ]
  },
  {
   "cell_type": "code",
   "execution_count": 9,
   "metadata": {},
   "outputs": [
    {
     "ename": "ExpatError",
     "evalue": "not well-formed (invalid token): line 442152, column 572",
     "output_type": "error",
     "traceback": [
      "\u001b[0;31m---------------------------------------------------------------------------\u001b[0m",
      "\u001b[0;31mExpatError\u001b[0m                                Traceback (most recent call last)",
      "\u001b[1;32m/Users/jack/apps/music-lib-net-viz/data/test.ipynb Cell 2\u001b[0m line \u001b[0;36m5\n\u001b[1;32m      <a href='vscode-notebook-cell:/Users/jack/apps/music-lib-net-viz/data/test.ipynb#W1sZmlsZQ%3D%3D?line=2'>3</a>\u001b[0m \u001b[39mwith\u001b[39;00m gzip\u001b[39m.\u001b[39mopen(BytesIO(raw), \u001b[39m'\u001b[39m\u001b[39mrt\u001b[39m\u001b[39m'\u001b[39m) \u001b[39mas\u001b[39;00m file:\n\u001b[1;32m      <a href='vscode-notebook-cell:/Users/jack/apps/music-lib-net-viz/data/test.ipynb#W1sZmlsZQ%3D%3D?line=3'>4</a>\u001b[0m     content \u001b[39m=\u001b[39m \u001b[39mf\u001b[39m\u001b[39m'\u001b[39m\u001b[39m<temp_root>\u001b[39m\u001b[39m{\u001b[39;00mfile\u001b[39m.\u001b[39mread()\u001b[39m}\u001b[39;00m\u001b[39m</temp_root>\u001b[39m\u001b[39m'\u001b[39m\n\u001b[0;32m----> <a href='vscode-notebook-cell:/Users/jack/apps/music-lib-net-viz/data/test.ipynb#W1sZmlsZQ%3D%3D?line=4'>5</a>\u001b[0m     data \u001b[39m=\u001b[39m xmltodict\u001b[39m.\u001b[39;49mparse(content)\n",
      "File \u001b[0;32m~/.virtualenvs/spotify-discogs/lib/python3.11/site-packages/xmltodict.py:378\u001b[0m, in \u001b[0;36mparse\u001b[0;34m(xml_input, encoding, expat, process_namespaces, namespace_separator, disable_entities, process_comments, **kwargs)\u001b[0m\n\u001b[1;32m    376\u001b[0m     parser\u001b[39m.\u001b[39mParse(\u001b[39mb\u001b[39m\u001b[39m'\u001b[39m\u001b[39m'\u001b[39m,\u001b[39mTrue\u001b[39;00m)\n\u001b[1;32m    377\u001b[0m \u001b[39melse\u001b[39;00m:\n\u001b[0;32m--> 378\u001b[0m     parser\u001b[39m.\u001b[39;49mParse(xml_input, \u001b[39mTrue\u001b[39;49;00m)\n\u001b[1;32m    379\u001b[0m \u001b[39mreturn\u001b[39;00m handler\u001b[39m.\u001b[39mitem\n",
      "\u001b[0;31mExpatError\u001b[0m: not well-formed (invalid token): line 442152, column 572"
     ]
    }
   ],
   "source": [
    "RELEASES_URL = 'https://discogs-data-dumps.s3-us-west-2.amazonaws.com/data/2009/discogs_20090101_releases.xml.gz'\n",
    "raw = requests.get(RELEASES_URL).content\n",
    "with gzip.open(BytesIO(raw), 'rt') as file:\n",
    "    content = f'<temp_root>{file.read()}</temp_root>'\n",
    "    data = xmltodict.parse(content)"
   ]
  },
  {
   "cell_type": "code",
   "execution_count": 4,
   "metadata": {},
   "outputs": [
    {
     "ename": "ExpatError",
     "evalue": "no element found: line 209295, column 0",
     "output_type": "error",
     "traceback": [
      "\u001b[0;31m---------------------------------------------------------------------------\u001b[0m",
      "\u001b[0;31mExpatError\u001b[0m                                Traceback (most recent call last)",
      "\u001b[1;32m/Users/jack/apps/music-lib-net-viz/data/test.ipynb Cell 3\u001b[0m line \u001b[0;36m1\n\u001b[0;32m----> <a href='vscode-notebook-cell:/Users/jack/apps/music-lib-net-viz/data/test.ipynb#W5sZmlsZQ%3D%3D?line=0'>1</a>\u001b[0m xmltodict\u001b[39m.\u001b[39;49mparse(gzip\u001b[39m.\u001b[39;49mGzipFile(\u001b[39m'\u001b[39;49m\u001b[39mraw/discogs_20130101_masters.xml.gz\u001b[39;49m\u001b[39m'\u001b[39;49m))\n",
      "File \u001b[0;32m~/.virtualenvs/spotify-discogs/lib/python3.11/site-packages/xmltodict.py:372\u001b[0m, in \u001b[0;36mparse\u001b[0;34m(xml_input, encoding, expat, process_namespaces, namespace_separator, disable_entities, process_comments, **kwargs)\u001b[0m\n\u001b[1;32m    370\u001b[0m         parser\u001b[39m.\u001b[39mExternalEntityRefHandler \u001b[39m=\u001b[39m \u001b[39mlambda\u001b[39;00m \u001b[39m*\u001b[39mx: \u001b[39m1\u001b[39m\n\u001b[1;32m    371\u001b[0m \u001b[39mif\u001b[39;00m \u001b[39mhasattr\u001b[39m(xml_input, \u001b[39m'\u001b[39m\u001b[39mread\u001b[39m\u001b[39m'\u001b[39m):\n\u001b[0;32m--> 372\u001b[0m     parser\u001b[39m.\u001b[39;49mParseFile(xml_input)\n\u001b[1;32m    373\u001b[0m \u001b[39melif\u001b[39;00m isgenerator(xml_input):\n\u001b[1;32m    374\u001b[0m     \u001b[39mfor\u001b[39;00m chunk \u001b[39min\u001b[39;00m xml_input:\n",
      "\u001b[0;31mExpatError\u001b[0m: no element found: line 209295, column 0"
     ]
    }
   ],
   "source": [
    "xmltodict.parse(gzip.GzipFile('raw/discogs_20130101_masters.xml.gz'))"
   ]
  },
  {
   "cell_type": "code",
   "execution_count": null,
   "metadata": {},
   "outputs": [],
   "source": []
  }
 ],
 "metadata": {
  "kernelspec": {
   "display_name": "spotify-discogs",
   "language": "python",
   "name": "python3"
  },
  "language_info": {
   "codemirror_mode": {
    "name": "ipython",
    "version": 3
   },
   "file_extension": ".py",
   "mimetype": "text/x-python",
   "name": "python",
   "nbconvert_exporter": "python",
   "pygments_lexer": "ipython3",
   "version": "3.11.5"
  }
 },
 "nbformat": 4,
 "nbformat_minor": 2
}
